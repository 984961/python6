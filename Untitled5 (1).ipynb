{
  "nbformat": 4,
  "nbformat_minor": 0,
  "metadata": {
    "colab": {
      "provenance": []
    },
    "kernelspec": {
      "name": "python3",
      "display_name": "Python 3"
    },
    "language_info": {
      "name": "python"
    }
  },
  "cells": [
    {
      "cell_type": "code",
      "execution_count": 1,
      "metadata": {
        "colab": {
          "base_uri": "https://localhost:8080/"
        },
        "id": "azysKdWRNRks",
        "outputId": "3f5daa54-c54f-47e8-9de6-ffd84672a652"
      },
      "outputs": [
        {
          "output_type": "stream",
          "name": "stdout",
          "text": [
            "MOHAN REDDY\n"
          ]
        }
      ],
      "source": [
        "string=('mohan reddy')\n",
        "print(string.upper())"
      ]
    },
    {
      "cell_type": "code",
      "source": [
        "print(string.lower())"
      ],
      "metadata": {
        "colab": {
          "base_uri": "https://localhost:8080/"
        },
        "id": "UB6Wj3twNXE9",
        "outputId": "a529c97e-a27c-48dc-a4cf-886d960a6cad"
      },
      "execution_count": 2,
      "outputs": [
        {
          "output_type": "stream",
          "name": "stdout",
          "text": [
            "mohan reddy\n"
          ]
        }
      ]
    },
    {
      "cell_type": "code",
      "source": [
        "print(string.swapcase())"
      ],
      "metadata": {
        "colab": {
          "base_uri": "https://localhost:8080/"
        },
        "id": "yE6eAKGBNb47",
        "outputId": "117ba166-6bcd-4935-8eb8-f357ae1573ec"
      },
      "execution_count": 3,
      "outputs": [
        {
          "output_type": "stream",
          "name": "stdout",
          "text": [
            "MOHAN REDDY\n"
          ]
        }
      ]
    },
    {
      "cell_type": "code",
      "source": [
        "print(string.upper())"
      ],
      "metadata": {
        "colab": {
          "base_uri": "https://localhost:8080/"
        },
        "id": "i2gmCgsuNe8Q",
        "outputId": "15c0dec6-ac21-45a8-bc39-152d828be4ad"
      },
      "execution_count": 5,
      "outputs": [
        {
          "output_type": "stream",
          "name": "stdout",
          "text": [
            "MOHAN REDDY\n"
          ]
        }
      ]
    },
    {
      "cell_type": "code",
      "source": [
        "print(string.count('a'))"
      ],
      "metadata": {
        "colab": {
          "base_uri": "https://localhost:8080/"
        },
        "id": "y8-qGz4ANjS2",
        "outputId": "c8d43020-8804-47a7-ddb1-90b8d8e81ad5"
      },
      "execution_count": 8,
      "outputs": [
        {
          "output_type": "stream",
          "name": "stdout",
          "text": [
            "1\n"
          ]
        }
      ]
    },
    {
      "cell_type": "code",
      "source": [
        "print(len(string))"
      ],
      "metadata": {
        "colab": {
          "base_uri": "https://localhost:8080/"
        },
        "id": "UPuMai4TNrcf",
        "outputId": "a54d8ade-a361-47b2-e773-258ff89f8f64"
      },
      "execution_count": 9,
      "outputs": [
        {
          "output_type": "stream",
          "name": "stdout",
          "text": [
            "11\n"
          ]
        }
      ]
    },
    {
      "cell_type": "code",
      "source": [
        "print(string.find('y'))"
      ],
      "metadata": {
        "colab": {
          "base_uri": "https://localhost:8080/"
        },
        "id": "WwSBFYrNN6tW",
        "outputId": "1391b245-10e6-42b3-dfd7-27be56ad9317"
      },
      "execution_count": 10,
      "outputs": [
        {
          "output_type": "stream",
          "name": "stdout",
          "text": [
            "10\n"
          ]
        }
      ]
    },
    {
      "cell_type": "code",
      "source": [
        "print(string.replace(' ','-'))"
      ],
      "metadata": {
        "colab": {
          "base_uri": "https://localhost:8080/"
        },
        "id": "NJaAAfCGN9Rp",
        "outputId": "4de68fee-d15a-4018-91ee-8fa071272544"
      },
      "execution_count": 11,
      "outputs": [
        {
          "output_type": "stream",
          "name": "stdout",
          "text": [
            "mohan-reddy\n"
          ]
        }
      ]
    },
    {
      "cell_type": "code",
      "source": [
        "string=('Wikimedia Foundation')"
      ],
      "metadata": {
        "id": "jcWyojKtOBUR"
      },
      "execution_count": 12,
      "outputs": []
    },
    {
      "cell_type": "code",
      "source": [
        "print(len(string))"
      ],
      "metadata": {
        "colab": {
          "base_uri": "https://localhost:8080/"
        },
        "id": "fCbrhUJqOE4U",
        "outputId": "39d4d971-a5ff-4696-c5d4-4079594fa963"
      },
      "execution_count": 13,
      "outputs": [
        {
          "output_type": "stream",
          "name": "stdout",
          "text": [
            "20\n"
          ]
        }
      ]
    },
    {
      "cell_type": "code",
      "source": [
        "print(string.count('m'))"
      ],
      "metadata": {
        "colab": {
          "base_uri": "https://localhost:8080/"
        },
        "id": "iVevCKJDOH9T",
        "outputId": "67e76214-3fba-4b3f-e29d-b9693a5fec39"
      },
      "execution_count": 14,
      "outputs": [
        {
          "output_type": "stream",
          "name": "stdout",
          "text": [
            "1\n"
          ]
        }
      ]
    },
    {
      "cell_type": "code",
      "source": [
        "print(string.count('i'))"
      ],
      "metadata": {
        "colab": {
          "base_uri": "https://localhost:8080/"
        },
        "id": "JazDNJSbOKaj",
        "outputId": "52f34aab-1cae-4ffe-94b4-b0d205c0f925"
      },
      "execution_count": 15,
      "outputs": [
        {
          "output_type": "stream",
          "name": "stdout",
          "text": [
            "4\n"
          ]
        }
      ]
    },
    {
      "cell_type": "code",
      "source": [
        "print(string.find('foundation'))"
      ],
      "metadata": {
        "colab": {
          "base_uri": "https://localhost:8080/"
        },
        "id": "DzMUTN9eONN7",
        "outputId": "da705de2-6a30-4ed6-99a6-60d6f18e376a"
      },
      "execution_count": 16,
      "outputs": [
        {
          "output_type": "stream",
          "name": "stdout",
          "text": [
            "-1\n"
          ]
        }
      ]
    },
    {
      "cell_type": "code",
      "source": [],
      "metadata": {
        "id": "wjF0Z9oTOQl4"
      },
      "execution_count": null,
      "outputs": []
    },
    {
      "cell_type": "markdown",
      "source": [
        "#Problem 1\n",
        "###You are given a sentence which reads \"Wikipedia is a free online encyclopedia, created and edited by volunteers around the world and hosted by the Wikimedia Foundation.\"\n",
        "\n",
        "###Find the number of words in the given sentence."
      ],
      "metadata": {
        "id": "564IkrEBORs2"
      }
    },
    {
      "cell_type": "code",
      "source": [
        "num_of_words=len(string)\n",
        "print(num_of_words)"
      ],
      "metadata": {
        "colab": {
          "base_uri": "https://localhost:8080/"
        },
        "id": "zpVDquE4OdAz",
        "outputId": "63b64bbd-cbff-4768-f95a-327acd74c72b"
      },
      "execution_count": 18,
      "outputs": [
        {
          "output_type": "stream",
          "name": "stdout",
          "text": [
            "20\n"
          ]
        }
      ]
    },
    {
      "cell_type": "code",
      "source": [],
      "metadata": {
        "id": "ZD8Z5INMOoL-"
      },
      "execution_count": null,
      "outputs": []
    },
    {
      "cell_type": "markdown",
      "source": [
        "##Problem 2\n",
        "###Write a Python code which takes a number and returns a corresponding string of hyphens. For example if the number is 3, it will return '---' , if the number is 5 it will return '-----'"
      ],
      "metadata": {
        "id": "haZ0aUYvOsGw"
      }
    },
    {
      "cell_type": "code",
      "source": [
        "input_num=int(input('enter a number'))\n",
        "print(input_num*'-')"
      ],
      "metadata": {
        "colab": {
          "base_uri": "https://localhost:8080/"
        },
        "id": "8P_yDO9sOtk1",
        "outputId": "3f810b86-b02a-443c-ca8c-5647654ea98e"
      },
      "execution_count": 19,
      "outputs": [
        {
          "output_type": "stream",
          "name": "stdout",
          "text": [
            "enter a number8\n",
            "--------\n"
          ]
        }
      ]
    },
    {
      "cell_type": "code",
      "source": [],
      "metadata": {
        "id": "j02N-WSsOxxx"
      },
      "execution_count": 19,
      "outputs": []
    },
    {
      "cell_type": "markdown",
      "source": [
        "#Problem 3\n",
        "###A string can be called a safe bridge if it has no gaps in it i.e, no spaces. You are supposed to take an input from the user and print whether the string is a safe bridge or not"
      ],
      "metadata": {
        "id": "OWdF96pfO4K8"
      }
    },
    {
      "cell_type": "code",
      "source": [
        "bridge=input()"
      ],
      "metadata": {
        "colab": {
          "base_uri": "https://localhost:8080/"
        },
        "id": "btt4asoPO5DT",
        "outputId": "aa669bcc-af8e-4683-a467-60f45d590188"
      },
      "execution_count": 20,
      "outputs": [
        {
          "name": "stdout",
          "output_type": "stream",
          "text": [
            "mohan reddy\n"
          ]
        }
      ]
    },
    {
      "cell_type": "code",
      "source": [
        "is_safe_bridge=bridge.find(' ') == -1\n"
      ],
      "metadata": {
        "id": "biG0bhUBPBnh"
      },
      "execution_count": 22,
      "outputs": []
    },
    {
      "cell_type": "code",
      "source": [
        "print(is_safe_bridge)"
      ],
      "metadata": {
        "colab": {
          "base_uri": "https://localhost:8080/"
        },
        "id": "6EQGCEX-PQKz",
        "outputId": "132bb5f7-8c2a-4312-f5bb-41d9714ecb93"
      },
      "execution_count": 24,
      "outputs": [
        {
          "output_type": "stream",
          "name": "stdout",
          "text": [
            "False\n"
          ]
        }
      ]
    },
    {
      "cell_type": "code",
      "source": [],
      "metadata": {
        "id": "O3es-PNePoT3"
      },
      "execution_count": null,
      "outputs": []
    },
    {
      "cell_type": "markdown",
      "source": [
        "#Problem 4\n",
        "###Count the number of D's in a string inputted by the user. This will be case insensitive."
      ],
      "metadata": {
        "id": "JzIDgkTpP6Rr"
      }
    },
    {
      "cell_type": "code",
      "source": [
        "user_string='debris was scattered all over the place in the distant region of denmark'"
      ],
      "metadata": {
        "id": "EzzSvktkQAYb"
      },
      "execution_count": 25,
      "outputs": []
    },
    {
      "cell_type": "code",
      "source": [
        "D_counts = user_string.upper().count('D')"
      ],
      "metadata": {
        "id": "j1NqMwVYQSm0"
      },
      "execution_count": 26,
      "outputs": []
    },
    {
      "cell_type": "code",
      "source": [
        "print(D_counts)"
      ],
      "metadata": {
        "colab": {
          "base_uri": "https://localhost:8080/"
        },
        "id": "sdNTPicDQal4",
        "outputId": "9a83ea91-dad1-45f5-c0fa-eab629c5c77e"
      },
      "execution_count": 27,
      "outputs": [
        {
          "output_type": "stream",
          "name": "stdout",
          "text": [
            "4\n"
          ]
        }
      ]
    },
    {
      "cell_type": "code",
      "source": [],
      "metadata": {
        "id": "xhuN3cJqQcpi"
      },
      "execution_count": null,
      "outputs": []
    },
    {
      "cell_type": "markdown",
      "source": [
        "#Problem 5\n",
        "###Check whether a given string is a palindrome. A palindrome is a word, number, phrase, or other sequence of characters which reads the same backward as forward, such as madam, racecar."
      ],
      "metadata": {
        "id": "HlJhihVoQd38"
      }
    },
    {
      "cell_type": "code",
      "source": [
        "user_string=input()"
      ],
      "metadata": {
        "colab": {
          "base_uri": "https://localhost:8080/"
        },
        "id": "sPgYU56jQiCq",
        "outputId": "5c0a4169-8198-4599-d843-1bdcb6b5e1f3"
      },
      "execution_count": 28,
      "outputs": [
        {
          "name": "stdout",
          "output_type": "stream",
          "text": [
            "variable\n"
          ]
        }
      ]
    },
    {
      "cell_type": "code",
      "source": [
        "user_string == user_string[::-1]"
      ],
      "metadata": {
        "colab": {
          "base_uri": "https://localhost:8080/"
        },
        "id": "L505xpUZQoaB",
        "outputId": "16916e08-7304-408d-f54c-61c6c87390db"
      },
      "execution_count": 29,
      "outputs": [
        {
          "output_type": "execute_result",
          "data": {
            "text/plain": [
              "False"
            ]
          },
          "metadata": {},
          "execution_count": 29
        }
      ]
    },
    {
      "cell_type": "code",
      "source": [],
      "metadata": {
        "id": "g2QN7q_TQwQc"
      },
      "execution_count": null,
      "outputs": []
    }
  ]
}